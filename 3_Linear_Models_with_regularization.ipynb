{
 "cells": [
  {
   "cell_type": "markdown",
   "metadata": {},
   "source": [
    "# Lasso and Ridge Regression\n",
    "\n",
    "Linear models may bring overfitting issues. We add $L_1$ or $L_2$ penalty to loss function of linear regression to regularizes the coefficient estimates towards zero. This technique discourages learning a more complex or flexible model, so as to avoid the risk of overfitting.\n",
    "\n",
    "This notebook will use a linear regression engine `LinearModel_Engine`, which I built to do hyperparameter tuning with Bayesian optimization. "
   ]
  },
  {
   "cell_type": "code",
   "execution_count": 1,
   "metadata": {},
   "outputs": [],
   "source": [
    "import utils\n",
    "import gc\n",
    "import numpy as np\n",
    "import pandas as pd\n",
    "import pickle\n",
    "from Linear_Models import LinearModel_Engine\n",
    "from hyperopt import hp"
   ]
  },
  {
   "cell_type": "markdown",
   "metadata": {},
   "source": [
    "## Read saved data sets\n",
    "\n",
    "Read saved pickle format data sets from `1_Data_Exploration.ipynb`\n",
    "\n",
    "* training data set (`X_train`, `y_train`), 60% of full `train_features.csv`: used with validation data set for hyperparameter tuning \n",
    "* validation data set (`X_val`, `y_val`), 20% of full `train_features.csv`: used with training data set for hyperparameter tuning \n",
    "* testing data set (`X_test`, `y_test`), 20% of full `train_features.csv`: used for comparing to other models"
   ]
  },
  {
   "cell_type": "code",
   "execution_count": 2,
   "metadata": {},
   "outputs": [],
   "source": [
    "X_train = pd.read_pickle(\"X_train.pkl\")\n",
    "X_val = pd.read_pickle(\"X_val.pkl\")\n",
    "X_test = pd.read_pickle(\"X_test.pkl\")\n",
    "y_train = pd.read_pickle(\"y_train.pkl\")\n",
    "y_val = pd.read_pickle(\"y_val.pkl\")\n",
    "y_test = pd.read_pickle(\"y_test.pkl\")"
   ]
  },
  {
   "cell_type": "markdown",
   "metadata": {},
   "source": [
    "Drop `major_new` and the check data sets before doing hyperparameter tuning"
   ]
  },
  {
   "cell_type": "code",
   "execution_count": 3,
   "metadata": {},
   "outputs": [],
   "source": [
    "vars_drop = ['major_new']\n",
    "X_train_1, X_val_1, X_test_1 = utils.drop_vars(vars_drop, X_train, X_val, X_test) "
   ]
  },
  {
   "cell_type": "code",
   "execution_count": 4,
   "metadata": {},
   "outputs": [
    {
     "data": {
      "text/html": [
       "<div>\n",
       "<style scoped>\n",
       "    .dataframe tbody tr th:only-of-type {\n",
       "        vertical-align: middle;\n",
       "    }\n",
       "\n",
       "    .dataframe tbody tr th {\n",
       "        vertical-align: top;\n",
       "    }\n",
       "\n",
       "    .dataframe thead th {\n",
       "        text-align: right;\n",
       "    }\n",
       "</style>\n",
       "<table border=\"1\" class=\"dataframe\">\n",
       "  <thead>\n",
       "    <tr style=\"text-align: right;\">\n",
       "      <th></th>\n",
       "      <th>jobType</th>\n",
       "      <th>degree</th>\n",
       "      <th>major</th>\n",
       "      <th>industry</th>\n",
       "      <th>yearsExperience</th>\n",
       "      <th>milesFromMetropolis</th>\n",
       "    </tr>\n",
       "  </thead>\n",
       "  <tbody>\n",
       "    <tr>\n",
       "      <th>68609</th>\n",
       "      <td>VICE_PRESIDENT</td>\n",
       "      <td>MASTERS</td>\n",
       "      <td>MATH</td>\n",
       "      <td>EDUCATION</td>\n",
       "      <td>5</td>\n",
       "      <td>82</td>\n",
       "    </tr>\n",
       "    <tr>\n",
       "      <th>924598</th>\n",
       "      <td>CTO</td>\n",
       "      <td>DOCTORAL</td>\n",
       "      <td>MATH</td>\n",
       "      <td>AUTO</td>\n",
       "      <td>22</td>\n",
       "      <td>66</td>\n",
       "    </tr>\n",
       "    <tr>\n",
       "      <th>918523</th>\n",
       "      <td>CEO</td>\n",
       "      <td>HIGH_SCHOOL</td>\n",
       "      <td>NONE</td>\n",
       "      <td>EDUCATION</td>\n",
       "      <td>24</td>\n",
       "      <td>67</td>\n",
       "    </tr>\n",
       "    <tr>\n",
       "      <th>213733</th>\n",
       "      <td>CFO</td>\n",
       "      <td>HIGH_SCHOOL</td>\n",
       "      <td>NONE</td>\n",
       "      <td>FINANCE</td>\n",
       "      <td>22</td>\n",
       "      <td>90</td>\n",
       "    </tr>\n",
       "    <tr>\n",
       "      <th>246703</th>\n",
       "      <td>VICE_PRESIDENT</td>\n",
       "      <td>MASTERS</td>\n",
       "      <td>BUSINESS</td>\n",
       "      <td>SERVICE</td>\n",
       "      <td>18</td>\n",
       "      <td>68</td>\n",
       "    </tr>\n",
       "  </tbody>\n",
       "</table>\n",
       "</div>"
      ],
      "text/plain": [
       "               jobType       degree     major   industry  yearsExperience  \\\n",
       "68609   VICE_PRESIDENT      MASTERS      MATH  EDUCATION                5   \n",
       "924598             CTO     DOCTORAL      MATH       AUTO               22   \n",
       "918523             CEO  HIGH_SCHOOL      NONE  EDUCATION               24   \n",
       "213733             CFO  HIGH_SCHOOL      NONE    FINANCE               22   \n",
       "246703  VICE_PRESIDENT      MASTERS  BUSINESS    SERVICE               18   \n",
       "\n",
       "        milesFromMetropolis  \n",
       "68609                    82  \n",
       "924598                   66  \n",
       "918523                   67  \n",
       "213733                   90  \n",
       "246703                   68  "
      ]
     },
     "execution_count": 4,
     "metadata": {},
     "output_type": "execute_result"
    }
   ],
   "source": [
    "X_train_1.head()"
   ]
  },
  {
   "cell_type": "code",
   "execution_count": 5,
   "metadata": {},
   "outputs": [],
   "source": [
    "var_cate = utils.get_categorical_variables(X_train_1)\n",
    "X_train_hot_encode, X_valid_hot_encode = utils.encoding('one hot', var_cate, X_train_1, X_val_1)\n",
    "_, X_test_hot_encode = utils.encoding('one hot', var_cate, X_train_1, X_test_1)"
   ]
  },
  {
   "cell_type": "code",
   "execution_count": 6,
   "metadata": {},
   "outputs": [
    {
     "data": {
      "text/html": [
       "<div>\n",
       "<style scoped>\n",
       "    .dataframe tbody tr th:only-of-type {\n",
       "        vertical-align: middle;\n",
       "    }\n",
       "\n",
       "    .dataframe tbody tr th {\n",
       "        vertical-align: top;\n",
       "    }\n",
       "\n",
       "    .dataframe thead th {\n",
       "        text-align: right;\n",
       "    }\n",
       "</style>\n",
       "<table border=\"1\" class=\"dataframe\">\n",
       "  <thead>\n",
       "    <tr style=\"text-align: right;\">\n",
       "      <th></th>\n",
       "      <th>yearsExperience</th>\n",
       "      <th>milesFromMetropolis</th>\n",
       "      <th>jobType_CEO</th>\n",
       "      <th>jobType_CFO</th>\n",
       "      <th>jobType_CTO</th>\n",
       "      <th>jobType_JANITOR</th>\n",
       "      <th>jobType_JUNIOR</th>\n",
       "      <th>jobType_MANAGER</th>\n",
       "      <th>jobType_SENIOR</th>\n",
       "      <th>jobType_VICE_PRESIDENT</th>\n",
       "      <th>...</th>\n",
       "      <th>major_MATH</th>\n",
       "      <th>major_NONE</th>\n",
       "      <th>major_PHYSICS</th>\n",
       "      <th>industry_AUTO</th>\n",
       "      <th>industry_EDUCATION</th>\n",
       "      <th>industry_FINANCE</th>\n",
       "      <th>industry_HEALTH</th>\n",
       "      <th>industry_OIL</th>\n",
       "      <th>industry_SERVICE</th>\n",
       "      <th>industry_WEB</th>\n",
       "    </tr>\n",
       "  </thead>\n",
       "  <tbody>\n",
       "    <tr>\n",
       "      <th>67354</th>\n",
       "      <td>22</td>\n",
       "      <td>30</td>\n",
       "      <td>0</td>\n",
       "      <td>0</td>\n",
       "      <td>0</td>\n",
       "      <td>0</td>\n",
       "      <td>0</td>\n",
       "      <td>0</td>\n",
       "      <td>1</td>\n",
       "      <td>0</td>\n",
       "      <td>...</td>\n",
       "      <td>0</td>\n",
       "      <td>0</td>\n",
       "      <td>0</td>\n",
       "      <td>0</td>\n",
       "      <td>1</td>\n",
       "      <td>0</td>\n",
       "      <td>0</td>\n",
       "      <td>0</td>\n",
       "      <td>0</td>\n",
       "      <td>0</td>\n",
       "    </tr>\n",
       "    <tr>\n",
       "      <th>346428</th>\n",
       "      <td>10</td>\n",
       "      <td>69</td>\n",
       "      <td>0</td>\n",
       "      <td>0</td>\n",
       "      <td>1</td>\n",
       "      <td>0</td>\n",
       "      <td>0</td>\n",
       "      <td>0</td>\n",
       "      <td>0</td>\n",
       "      <td>0</td>\n",
       "      <td>...</td>\n",
       "      <td>0</td>\n",
       "      <td>0</td>\n",
       "      <td>0</td>\n",
       "      <td>0</td>\n",
       "      <td>0</td>\n",
       "      <td>1</td>\n",
       "      <td>0</td>\n",
       "      <td>0</td>\n",
       "      <td>0</td>\n",
       "      <td>0</td>\n",
       "    </tr>\n",
       "    <tr>\n",
       "      <th>983385</th>\n",
       "      <td>14</td>\n",
       "      <td>75</td>\n",
       "      <td>0</td>\n",
       "      <td>0</td>\n",
       "      <td>0</td>\n",
       "      <td>0</td>\n",
       "      <td>0</td>\n",
       "      <td>1</td>\n",
       "      <td>0</td>\n",
       "      <td>0</td>\n",
       "      <td>...</td>\n",
       "      <td>0</td>\n",
       "      <td>0</td>\n",
       "      <td>1</td>\n",
       "      <td>0</td>\n",
       "      <td>0</td>\n",
       "      <td>0</td>\n",
       "      <td>0</td>\n",
       "      <td>0</td>\n",
       "      <td>1</td>\n",
       "      <td>0</td>\n",
       "    </tr>\n",
       "    <tr>\n",
       "      <th>773169</th>\n",
       "      <td>21</td>\n",
       "      <td>51</td>\n",
       "      <td>0</td>\n",
       "      <td>1</td>\n",
       "      <td>0</td>\n",
       "      <td>0</td>\n",
       "      <td>0</td>\n",
       "      <td>0</td>\n",
       "      <td>0</td>\n",
       "      <td>0</td>\n",
       "      <td>...</td>\n",
       "      <td>0</td>\n",
       "      <td>1</td>\n",
       "      <td>0</td>\n",
       "      <td>0</td>\n",
       "      <td>0</td>\n",
       "      <td>0</td>\n",
       "      <td>0</td>\n",
       "      <td>0</td>\n",
       "      <td>0</td>\n",
       "      <td>1</td>\n",
       "    </tr>\n",
       "    <tr>\n",
       "      <th>709215</th>\n",
       "      <td>0</td>\n",
       "      <td>65</td>\n",
       "      <td>0</td>\n",
       "      <td>1</td>\n",
       "      <td>0</td>\n",
       "      <td>0</td>\n",
       "      <td>0</td>\n",
       "      <td>0</td>\n",
       "      <td>0</td>\n",
       "      <td>0</td>\n",
       "      <td>...</td>\n",
       "      <td>0</td>\n",
       "      <td>0</td>\n",
       "      <td>1</td>\n",
       "      <td>0</td>\n",
       "      <td>1</td>\n",
       "      <td>0</td>\n",
       "      <td>0</td>\n",
       "      <td>0</td>\n",
       "      <td>0</td>\n",
       "      <td>0</td>\n",
       "    </tr>\n",
       "  </tbody>\n",
       "</table>\n",
       "<p>5 rows × 31 columns</p>\n",
       "</div>"
      ],
      "text/plain": [
       "        yearsExperience  milesFromMetropolis  jobType_CEO  jobType_CFO  \\\n",
       "67354                22                   30            0            0   \n",
       "346428               10                   69            0            0   \n",
       "983385               14                   75            0            0   \n",
       "773169               21                   51            0            1   \n",
       "709215                0                   65            0            1   \n",
       "\n",
       "        jobType_CTO  jobType_JANITOR  jobType_JUNIOR  jobType_MANAGER  \\\n",
       "67354             0                0               0                0   \n",
       "346428            1                0               0                0   \n",
       "983385            0                0               0                1   \n",
       "773169            0                0               0                0   \n",
       "709215            0                0               0                0   \n",
       "\n",
       "        jobType_SENIOR  jobType_VICE_PRESIDENT      ...       major_MATH  \\\n",
       "67354                1                       0      ...                0   \n",
       "346428               0                       0      ...                0   \n",
       "983385               0                       0      ...                0   \n",
       "773169               0                       0      ...                0   \n",
       "709215               0                       0      ...                0   \n",
       "\n",
       "        major_NONE  major_PHYSICS  industry_AUTO  industry_EDUCATION  \\\n",
       "67354            0              0              0                   1   \n",
       "346428           0              0              0                   0   \n",
       "983385           0              1              0                   0   \n",
       "773169           1              0              0                   0   \n",
       "709215           0              1              0                   1   \n",
       "\n",
       "        industry_FINANCE  industry_HEALTH  industry_OIL  industry_SERVICE  \\\n",
       "67354                  0                0             0                 0   \n",
       "346428                 1                0             0                 0   \n",
       "983385                 0                0             0                 1   \n",
       "773169                 0                0             0                 0   \n",
       "709215                 0                0             0                 0   \n",
       "\n",
       "        industry_WEB  \n",
       "67354              0  \n",
       "346428             0  \n",
       "983385             0  \n",
       "773169             1  \n",
       "709215             0  \n",
       "\n",
       "[5 rows x 31 columns]"
      ]
     },
     "execution_count": 6,
     "metadata": {},
     "output_type": "execute_result"
    }
   ],
   "source": [
    "X_test_hot_encode.head()"
   ]
  },
  {
   "cell_type": "markdown",
   "metadata": {},
   "source": [
    "Create two functions below for training and hyperparameter tuning"
   ]
  },
  {
   "cell_type": "markdown",
   "metadata": {},
   "source": [
    "* `run_LM`: manual tuning to find hyperparameter space"
   ]
  },
  {
   "cell_type": "code",
   "execution_count": 7,
   "metadata": {},
   "outputs": [],
   "source": [
    "def run_LM(encoding, LM, hyperparameters, test_data):\n",
    "    LM = LinearModel_Engine(LM, X_train_1, y_train, X_val_1, y_val, True)\n",
    "    var_cate, features_DEV, features_OOT, labels_DEV, labels_OOT = LM.get_datasets()\n",
    "\n",
    "    features_DEV, features_OOT, feature_names = LM.encoding(var_cate, features_DEV, features_OOT)\n",
    "    model, hyperparameters, DEV_metric, OOT_metric, run_time = \\\n",
    "                LM.train(features_DEV, y_train, features_OOT, y_val, hyperparameters)  \n",
    "    \n",
    "    pred = model.predict(test_data)\n",
    "    \n",
    "    \n",
    "    print(\"Train RMSE is {}\".format(DEV_metric))\n",
    "    print(\"Valid RMSE is {}\".format(OOT_metric))\n",
    "\n",
    "    model_name = \"Test data is\"\n",
    "    utils.check_RMSE(model_name, y_test, pred)\n",
    "    print(\"________________\")\n",
    "    print(hyperparameters)\n"
   ]
  },
  {
   "cell_type": "code",
   "execution_count": 8,
   "metadata": {},
   "outputs": [
    {
     "name": "stdout",
     "output_type": "stream",
     "text": [
      "Train RMSE is 19.839228473877707\n",
      "Valid RMSE is 19.880274376320973\n",
      "RMSE of model Test data is is:  19.86789704095302\n",
      "________________\n",
      "{'alpha': 0.0009}\n"
     ]
    }
   ],
   "source": [
    "run_LM(True, 'lasso', {'alpha': 0.0009}, X_test_hot_encode)"
   ]
  },
  {
   "cell_type": "code",
   "execution_count": 9,
   "metadata": {},
   "outputs": [
    {
     "name": "stdout",
     "output_type": "stream",
     "text": [
      "Train RMSE is 19.56730125965712\n",
      "Valid RMSE is 19.608589653677345\n",
      "RMSE of model Test data is is:  19.598284879387354\n",
      "________________\n",
      "{'alpha': 0.0009}\n"
     ]
    }
   ],
   "source": [
    "run_LM(True, 'ridge', {'alpha': 0.0009}, X_test_hot_encode)"
   ]
  },
  {
   "cell_type": "markdown",
   "metadata": {},
   "source": [
    "* `tune_LM`: apply bayesian optimization to find best hyperparameter in hyperparameter space"
   ]
  },
  {
   "cell_type": "code",
   "execution_count": 10,
   "metadata": {},
   "outputs": [],
   "source": [
    "def tune_LM(encoding, LM, space, test_data, records, model_dir):\n",
    "    LM = LinearModel_Engine(LM, X_train_1, y_train, X_val_1, y_val, True)\n",
    "    table, hyperparameters, best_results = LM.evaluation(space, records, model_dir)\n",
    "    \n",
    "    best_model = pickle.load(open(model_dir, 'rb'))\n",
    "    gbm_pred = best_model.predict(test_data)\n",
    "    \n",
    "    print(\"Train RMSE is {}\".format(table[1]))\n",
    "    print(\"Valid RMSE is {}\".format(table[2]))\n",
    "    model_name = \"Test data is\"\n",
    "    utils.check_RMSE(model_name, y_test, gbm_pred)\n",
    "    print(\"________________\")\n",
    "    print(hyperparameters)"
   ]
  },
  {
   "cell_type": "code",
   "execution_count": 11,
   "metadata": {},
   "outputs": [
    {
     "name": "stdout",
     "output_type": "stream",
     "text": [
      "100%|██████████| 50/50 [01:44<00:00,  2.09s/it, best loss: 19.608447221101493]\n",
      "Train RMSE is 19.567285096155036\n",
      "Valid RMSE is 19.608447221101493\n",
      "RMSE of model Test data is is:  19.59826517753992\n",
      "________________\n",
      "{'alpha': 1.538754779735333e-08}\n"
     ]
    }
   ],
   "source": [
    "space = {\n",
    "            'alpha':  hp.uniform('alpha', 0.0, 0.0001),\n",
    "        } \n",
    "   \n",
    "tune_LM(True, 'ridge', space, X_test_hot_encode, 'LM_records.csv', 'Best_ridge.sav')    "
   ]
  },
  {
   "cell_type": "code",
   "execution_count": 12,
   "metadata": {},
   "outputs": [
    {
     "name": "stdout",
     "output_type": "stream",
     "text": [
      " 40%|████      | 20/50 [06:44<11:57, 23.91s/it, best loss: 19.60845529066424] "
     ]
    },
    {
     "name": "stderr",
     "output_type": "stream",
     "text": [
      "/Library/Frameworks/Python.framework/Versions/3.7/lib/python3.7/site-packages/sklearn/linear_model/_coordinate_descent.py:531: ConvergenceWarning: Objective did not converge. You might want to increase the number of iterations. Duality gap: 10271600.593012929, tolerance: 89541.26362241824\n",
      "  positive)\n",
      "\n"
     ]
    },
    {
     "name": "stdout",
     "output_type": "stream",
     "text": [
      "\r",
      " 42%|████▏     | 21/50 [08:41<25:05, 51.91s/it, best loss: 19.608447196937732]"
     ]
    },
    {
     "name": "stderr",
     "output_type": "stream",
     "text": [
      "/Library/Frameworks/Python.framework/Versions/3.7/lib/python3.7/site-packages/sklearn/linear_model/_coordinate_descent.py:531: ConvergenceWarning: Objective did not converge. You might want to increase the number of iterations. Duality gap: 6098937.388589084, tolerance: 89541.26362241824\n",
      "  positive)\n",
      "\n"
     ]
    },
    {
     "name": "stdout",
     "output_type": "stream",
     "text": [
      "\r",
      " 44%|████▍     | 22/50 [10:33<32:35, 69.82s/it, best loss: 19.608444362133923]"
     ]
    },
    {
     "name": "stderr",
     "output_type": "stream",
     "text": [
      "/Library/Frameworks/Python.framework/Versions/3.7/lib/python3.7/site-packages/sklearn/linear_model/_coordinate_descent.py:531: ConvergenceWarning: Objective did not converge. You might want to increase the number of iterations. Duality gap: 10271680.560296565, tolerance: 89541.26362241824\n",
      "  positive)\n",
      "\n"
     ]
    },
    {
     "name": "stdout",
     "output_type": "stream",
     "text": [
      " 48%|████▊     | 24/50 [13:29<33:08, 76.49s/it, best loss: 19.608444362133923]"
     ]
    },
    {
     "name": "stderr",
     "output_type": "stream",
     "text": [
      "/Library/Frameworks/Python.framework/Versions/3.7/lib/python3.7/site-packages/sklearn/linear_model/_coordinate_descent.py:531: ConvergenceWarning: Objective did not converge. You might want to increase the number of iterations. Duality gap: 6095092.114952326, tolerance: 89541.26362241824\n",
      "  positive)\n",
      "\n"
     ]
    },
    {
     "name": "stdout",
     "output_type": "stream",
     "text": [
      " 52%|█████▏    | 26/50 [15:53<28:15, 70.64s/it, best loss: 19.608444362133923]"
     ]
    },
    {
     "name": "stderr",
     "output_type": "stream",
     "text": [
      "/Library/Frameworks/Python.framework/Versions/3.7/lib/python3.7/site-packages/sklearn/linear_model/_coordinate_descent.py:531: ConvergenceWarning: Objective did not converge. You might want to increase the number of iterations. Duality gap: 10270270.02484858, tolerance: 89541.26362241824\n",
      "  positive)\n",
      "\n"
     ]
    },
    {
     "name": "stdout",
     "output_type": "stream",
     "text": [
      " 68%|██████▊   | 34/50 [21:35<09:24, 35.30s/it, best loss: 19.608444362133923]"
     ]
    },
    {
     "name": "stderr",
     "output_type": "stream",
     "text": [
      "/Library/Frameworks/Python.framework/Versions/3.7/lib/python3.7/site-packages/sklearn/linear_model/_coordinate_descent.py:531: ConvergenceWarning: Objective did not converge. You might want to increase the number of iterations. Duality gap: 2406080.1757997572, tolerance: 89541.26362241824\n",
      "  positive)\n",
      "\n"
     ]
    },
    {
     "name": "stdout",
     "output_type": "stream",
     "text": [
      " 86%|████████▌ | 43/50 [26:23<03:04, 26.42s/it, best loss: 19.608444362133923]"
     ]
    },
    {
     "name": "stderr",
     "output_type": "stream",
     "text": [
      "/Library/Frameworks/Python.framework/Versions/3.7/lib/python3.7/site-packages/sklearn/linear_model/_coordinate_descent.py:531: ConvergenceWarning: Objective did not converge. You might want to increase the number of iterations. Duality gap: 2974031.3912016153, tolerance: 89541.26362241824\n",
      "  positive)\n",
      "\n"
     ]
    },
    {
     "name": "stdout",
     "output_type": "stream",
     "text": [
      "\r",
      " 88%|████████▊ | 44/50 [28:09<05:02, 50.40s/it, best loss: 19.60844033234874] "
     ]
    },
    {
     "name": "stderr",
     "output_type": "stream",
     "text": [
      "/Library/Frameworks/Python.framework/Versions/3.7/lib/python3.7/site-packages/sklearn/linear_model/_coordinate_descent.py:531: ConvergenceWarning: Objective did not converge. You might want to increase the number of iterations. Duality gap: 2408253.9437520206, tolerance: 89541.26362241824\n",
      "  positive)\n",
      "\n"
     ]
    },
    {
     "name": "stdout",
     "output_type": "stream",
     "text": [
      "100%|██████████| 50/50 [31:51<00:00, 38.24s/it, best loss: 19.60844033234874]\n",
      "Train RMSE is 19.56728980344768\n",
      "Valid RMSE is 19.60844033234874\n",
      "RMSE of model Test data is is:  19.598279940427293\n",
      "________________\n",
      "{'alpha': 3.459924132577914e-06}\n"
     ]
    }
   ],
   "source": [
    "space = {\n",
    "            'alpha':  hp.uniform('alpha', 0.0, 0.0001),\n",
    "        } \n",
    "    \n",
    "tune_LM(True, 'lasso', space, X_test_hot_encode, 'LM_records.csv', 'Best_lasso.sav') "
   ]
  },
  {
   "cell_type": "markdown",
   "metadata": {},
   "source": [
    "## Summary"
   ]
  },
  {
   "cell_type": "markdown",
   "metadata": {},
   "source": [
    "Both Lasso and Rigde Regression have very similar results that RMSE of test data is close to 19.598. This RMSE is really close to the RMSE of baseline model Linear Regression. Thus, ethier Lasso or Rigde Regression will be selected."
   ]
  },
  {
   "cell_type": "code",
   "execution_count": null,
   "metadata": {},
   "outputs": [],
   "source": []
  }
 ],
 "metadata": {
  "kernelspec": {
   "display_name": "Python 3",
   "language": "python",
   "name": "python3"
  },
  "language_info": {
   "codemirror_mode": {
    "name": "ipython",
    "version": 3
   },
   "file_extension": ".py",
   "mimetype": "text/x-python",
   "name": "python",
   "nbconvert_exporter": "python",
   "pygments_lexer": "ipython3",
   "version": "3.7.1"
  }
 },
 "nbformat": 4,
 "nbformat_minor": 2
}
