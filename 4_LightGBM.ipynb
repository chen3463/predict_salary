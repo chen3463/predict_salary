{
 "cells": [
  {
   "cell_type": "markdown",
   "metadata": {},
   "source": [
    "# Light Gradient Boosting\n",
    "\n",
    "This notebook will use the tree based model call Light Gradient Boosting. Like Extreme Boosting, Light Gradient Boosting Machine follows the principle of GBM but it is more efficient and cost less resources. Please see more details in `LightGBM_Engine.py` for how I use LightGBM."
   ]
  },
  {
   "cell_type": "code",
   "execution_count": 1,
   "metadata": {},
   "outputs": [],
   "source": [
    "import utils\n",
    "import gc\n",
    "import numpy as np\n",
    "import pandas as pd\n",
    "import lightgbm as lgb\n",
    "import LightGBM_Engine as LgbEn\n",
    "from hyperopt import hp"
   ]
  },
  {
   "cell_type": "markdown",
   "metadata": {},
   "source": [
    "## Read saved data sets\n",
    "\n",
    "Read saved pickle format data sets from `1_Data_Exploration.ipynb`\n",
    "\n",
    "* training data set (`X_train`, `y_train`), 60% of full `train_features.csv`: used with validation data set for hyperparameter tuning \n",
    "* validation data set (`X_val`, `y_val`), 20% of full `train_features.csv`: used with training data set for hyperparameter tuning \n",
    "* testing data set (`X_test`, `y_test`), 20% of full `train_features.csv`: used for comparing to other models"
   ]
  },
  {
   "cell_type": "code",
   "execution_count": 2,
   "metadata": {},
   "outputs": [],
   "source": [
    "X_train = pd.read_pickle(\"X_train.pkl\")\n",
    "X_val = pd.read_pickle(\"X_val.pkl\")\n",
    "X_test = pd.read_pickle(\"X_test.pkl\")\n",
    "y_train = pd.read_pickle(\"y_train.pkl\")\n",
    "y_val = pd.read_pickle(\"y_val.pkl\")\n",
    "y_test = pd.read_pickle(\"y_test.pkl\")"
   ]
  },
  {
   "cell_type": "code",
   "execution_count": 3,
   "metadata": {},
   "outputs": [
    {
     "data": {
      "text/plain": [
       "14"
      ]
     },
     "execution_count": 3,
     "metadata": {},
     "output_type": "execute_result"
    }
   ],
   "source": [
    "gc.collect()"
   ]
  },
  {
   "cell_type": "markdown",
   "metadata": {},
   "source": [
    "## Get default hyperparameters\n",
    "\n",
    "Start with the taining with the default hyperparameters."
   ]
  },
  {
   "cell_type": "code",
   "execution_count": 4,
   "metadata": {},
   "outputs": [
    {
     "data": {
      "text/plain": [
       "{'boosting_type': 'gbdt',\n",
       " 'class_weight': None,\n",
       " 'colsample_bytree': 1.0,\n",
       " 'importance_type': 'split',\n",
       " 'learning_rate': 0.1,\n",
       " 'max_depth': -1,\n",
       " 'min_child_samples': 20,\n",
       " 'min_child_weight': 0.001,\n",
       " 'min_split_gain': 0.0,\n",
       " 'n_estimators': 100,\n",
       " 'n_jobs': -1,\n",
       " 'num_leaves': 31,\n",
       " 'objective': None,\n",
       " 'random_state': None,\n",
       " 'reg_alpha': 0.0,\n",
       " 'reg_lambda': 0.0,\n",
       " 'silent': True,\n",
       " 'subsample': 1.0,\n",
       " 'subsample_for_bin': 200000,\n",
       " 'subsample_freq': 0}"
      ]
     },
     "execution_count": 4,
     "metadata": {},
     "output_type": "execute_result"
    }
   ],
   "source": [
    "LGB_default = lgb.LGBMRegressor()\n",
    "LGB_default.get_params()"
   ]
  },
  {
   "cell_type": "code",
   "execution_count": 5,
   "metadata": {},
   "outputs": [],
   "source": [
    "vars_drop = ['major_new']\n",
    "X_train_1, X_val_1, X_test_1 = utils.drop_vars(vars_drop, X_train, X_val, X_test)  \n",
    "categorical_vars = utils.get_categorical_variables(X_train_1)"
   ]
  },
  {
   "cell_type": "markdown",
   "metadata": {},
   "source": [
    "Create two functions below for training and hyperparameter tuning"
   ]
  },
  {
   "cell_type": "markdown",
   "metadata": {},
   "source": [
    "* `run_lgb`: manual tuning to find hyperparameter space"
   ]
  },
  {
   "cell_type": "code",
   "execution_count": 6,
   "metadata": {},
   "outputs": [],
   "source": [
    "def run_lgb(encoding, hyperparameters, test_data, param=None, value=None):\n",
    "    if param and value:\n",
    "        hyperparameters[param] = value\n",
    "    LGB = LgbEn.LightGBM_Engine(X_train_1, y_train, X_val_1, y_val, encoding, None, 'rmse')\n",
    "\n",
    "\n",
    "    var_cate, features_DEV, features_OOT, labels_DEV, labels_OOT, weights_DEV, weights_OOT = LGB.get_datasets()\n",
    "\n",
    "    DEV_set, OOT_set, feature_names = LGB.encoding(var_cate, features_DEV, \\\n",
    "                                                   features_OOT, labels_DEV, labels_OOT, weights_DEV, weights_OOT)\n",
    "    model, evals_results, hyperparameters, DEV_metric, OOT_metric, run_time = \\\n",
    "                                                LGB.train(DEV_set, OOT_set, hyperparameters) \n",
    "    \n",
    "    gbm_pred = model.predict(test_data)\n",
    "    \n",
    "    \n",
    "    print(\"Train RMSE is {}\".format(DEV_metric))\n",
    "    print(\"Valid RMSE is {}\".format(OOT_metric))\n",
    "    model_name = \"Test data is\"\n",
    "    utils.check_RMSE(model_name, y_test, gbm_pred)\n",
    "    print(\"________________\")\n",
    "    print(hyperparameters)"
   ]
  },
  {
   "cell_type": "markdown",
   "metadata": {},
   "source": [
    "* `tune_lgb`: apply Bayesian optimization to find best hyperparameter in hyperparameter space"
   ]
  },
  {
   "cell_type": "code",
   "execution_count": 7,
   "metadata": {},
   "outputs": [],
   "source": [
    "def tune_lgb(encoding, space, X_test, records, model_dir):\n",
    "    LGB_1 = LgbEn.LightGBM_Engine(X_train_1, y_train, X_val_1, y_val, encoding, None, 'rmse')\n",
    "    table, features, importance, selected, hyperparameters, best_results = \\\n",
    "                LGB_1.evaluation(space, records, model_dir)\n",
    "    \n",
    "    best_model = lgb.Booster(model_file=model_dir)\n",
    "    best_model.params['objective'] = 'regression'\n",
    "    gbm_pred = best_model.predict(X_test)\n",
    "    \n",
    "    print(\"Train RMSE is {}\".format(table[1]))\n",
    "    print(\"Valid RMSE is {}\".format(table[2]))\n",
    "    model_name = \"Test data is\"\n",
    "    utils.check_RMSE(model_name, y_test, gbm_pred)\n",
    "    print(\"________________\")\n",
    "    print(hyperparameters)\n",
    "    \n",
    "    return best_model, pd.concat([features, importance], axis = 1)"
   ]
  },
  {
   "cell_type": "markdown",
   "metadata": {},
   "source": [
    "## 1. One hot encoding"
   ]
  },
  {
   "cell_type": "code",
   "execution_count": 8,
   "metadata": {},
   "outputs": [],
   "source": [
    "_, X_test_hot_encode = utils.encoding('one hot', categorical_vars, X_train_1, X_test_1)"
   ]
  },
  {
   "cell_type": "code",
   "execution_count": 9,
   "metadata": {},
   "outputs": [
    {
     "data": {
      "text/plain": [
       "(199939, 31)"
      ]
     },
     "execution_count": 9,
     "metadata": {},
     "output_type": "execute_result"
    }
   ],
   "source": [
    "X_test_hot_encode.shape"
   ]
  },
  {
   "cell_type": "markdown",
   "metadata": {},
   "source": [
    "Start with default hyperparameter in LighGBM, used manual tuning to find a good hyperparameter space. Change one hyperparameter with more or less than default choice when other hyperparameters are fixed. The code below are examples, more runs are tested to get final feature space for Bayesian optimization."
   ]
  },
  {
   "cell_type": "code",
   "execution_count": 10,
   "metadata": {},
   "outputs": [
    {
     "name": "stdout",
     "output_type": "stream",
     "text": [
      "{'boosting_type': 'gbdt', 'class_weight': None, 'colsample_bytree': 1.0, 'importance_type': 'split', 'learning_rate': 0.1, 'max_depth': -1, 'min_child_samples': 20, 'min_child_weight': 0.001, 'min_split_gain': 0.0, 'n_estimators': 100, 'n_jobs': -1, 'num_leaves': 31, 'objective': None, 'random_state': None, 'reg_alpha': 0.0, 'reg_lambda': 0.0, 'silent': True, 'subsample': 1.0, 'subsample_for_bin': 200000, 'subsample_freq': 0}\n"
     ]
    },
    {
     "name": "stderr",
     "output_type": "stream",
     "text": [
      "/Library/Frameworks/Python.framework/Versions/3.7/lib/python3.7/site-packages/lightgbm/engine.py:151: UserWarning: Found `n_estimators` in params. Will use it instead of argument\n",
      "  warnings.warn(\"Found `{}` in params. Will use it instead of argument\".format(alias))\n",
      "/Library/Frameworks/Python.framework/Versions/3.7/lib/python3.7/site-packages/lightgbm/basic.py:1077: UserWarning: silent keyword has been found in `params` and will be ignored.\n",
      "Please use silent argument of the Dataset constructor to pass this parameter.\n",
      "  .format(key))\n"
     ]
    },
    {
     "name": "stdout",
     "output_type": "stream",
     "text": [
      "[LightGBM] [Warning] Unknown parameter: silent\n",
      "[LightGBM] [Warning] Unknown parameter: importance_type\n",
      "Train RMSE is 18.684162696240595\n",
      "Valid RMSE is 18.90072735026722\n",
      "RMSE of model Test data is is:  18.88978325543786\n",
      "________________\n",
      "{'boosting_type': 'gbdt', 'class_weight': None, 'colsample_bytree': 1.0, 'importance_type': 'split', 'learning_rate': 0.1, 'max_depth': -1, 'min_child_samples': 20, 'min_child_weight': 0.001, 'min_split_gain': 0.0, 'n_estimators': 379, 'num_leaves': 31, 'objective': None, 'reg_alpha': 0.0, 'reg_lambda': 0.0, 'silent': True, 'subsample': 1.0, 'subsample_for_bin': 200000, 'subsample_freq': 0}\n"
     ]
    },
    {
     "name": "stderr",
     "output_type": "stream",
     "text": [
      "/Library/Frameworks/Python.framework/Versions/3.7/lib/python3.7/site-packages/lightgbm/engine.py:151: UserWarning: Found `n_estimators` in params. Will use it instead of argument\n",
      "  warnings.warn(\"Found `{}` in params. Will use it instead of argument\".format(alias))\n",
      "/Library/Frameworks/Python.framework/Versions/3.7/lib/python3.7/site-packages/lightgbm/basic.py:1077: UserWarning: silent keyword has been found in `params` and will be ignored.\n",
      "Please use silent argument of the Dataset constructor to pass this parameter.\n",
      "  .format(key))\n"
     ]
    },
    {
     "name": "stdout",
     "output_type": "stream",
     "text": [
      "[LightGBM] [Warning] Unknown parameter: silent\n",
      "[LightGBM] [Warning] Unknown parameter: importance_type\n",
      "Train RMSE is 18.73420323603321\n",
      "Valid RMSE is 18.867287285496584\n",
      "RMSE of model Test data is is:  18.862428486015208\n",
      "________________\n",
      "{'boosting_type': 'gbdt', 'class_weight': None, 'colsample_bytree': 1.0, 'importance_type': 'split', 'learning_rate': 0.01, 'max_depth': -1, 'min_child_samples': 20, 'min_child_weight': 0.001, 'min_split_gain': 0.0, 'n_estimators': 2000, 'num_leaves': 31, 'objective': None, 'reg_alpha': 0.0, 'reg_lambda': 0.0, 'silent': True, 'subsample': 1.0, 'subsample_for_bin': 200000, 'subsample_freq': 0}\n"
     ]
    },
    {
     "name": "stderr",
     "output_type": "stream",
     "text": [
      "/Library/Frameworks/Python.framework/Versions/3.7/lib/python3.7/site-packages/lightgbm/engine.py:151: UserWarning: Found `n_estimators` in params. Will use it instead of argument\n",
      "  warnings.warn(\"Found `{}` in params. Will use it instead of argument\".format(alias))\n",
      "/Library/Frameworks/Python.framework/Versions/3.7/lib/python3.7/site-packages/lightgbm/basic.py:1077: UserWarning: silent keyword has been found in `params` and will be ignored.\n",
      "Please use silent argument of the Dataset constructor to pass this parameter.\n",
      "  .format(key))\n"
     ]
    },
    {
     "name": "stdout",
     "output_type": "stream",
     "text": [
      "[LightGBM] [Warning] Unknown parameter: silent\n",
      "[LightGBM] [Warning] Unknown parameter: importance_type\n",
      "Train RMSE is 18.72498884089342\n",
      "Valid RMSE is 18.877077945965137\n",
      "RMSE of model Test data is is:  18.872517367041073\n",
      "________________\n",
      "{'boosting_type': 'gbdt', 'class_weight': None, 'colsample_bytree': 1.0, 'importance_type': 'split', 'learning_rate': 0.05, 'max_depth': -1, 'min_child_samples': 20, 'min_child_weight': 0.001, 'min_split_gain': 0.0, 'n_estimators': 479, 'num_leaves': 31, 'objective': None, 'reg_alpha': 0.0, 'reg_lambda': 0.0, 'silent': True, 'subsample': 1.0, 'subsample_for_bin': 200000, 'subsample_freq': 0}\n"
     ]
    }
   ],
   "source": [
    "hyperparameters = LGB_default.get_params()\n",
    "print(hyperparameters)\n",
    "run_lgb(True, hyperparameters, X_test_hot_encode)\n",
    "run_lgb(True, hyperparameters, X_test_hot_encode, 'learning_rate', 0.01)\n",
    "run_lgb(True, hyperparameters, X_test_hot_encode, 'learning_rate', 0.05)"
   ]
  },
  {
   "cell_type": "markdown",
   "metadata": {},
   "source": [
    "Found the hyperparameters space below to tune. The maximum trees we build will not exceed 2000 trees and it will early stop if validation data performance has not changed for 50 runs"
   ]
  },
  {
   "cell_type": "code",
   "execution_count": 11,
   "metadata": {},
   "outputs": [
    {
     "name": "stdout",
     "output_type": "stream",
     "text": [
      "\r",
      "  0%|          | 0/50 [00:00<?, ?it/s, best loss: ?]"
     ]
    },
    {
     "name": "stderr",
     "output_type": "stream",
     "text": [
      "/Library/Frameworks/Python.framework/Versions/3.7/lib/python3.7/site-packages/lightgbm/engine.py:151: UserWarning: Found `n_estimators` in params. Will use it instead of argument\n",
      "  warnings.warn(\"Found `{}` in params. Will use it instead of argument\".format(alias))\n",
      "\n"
     ]
    },
    {
     "name": "stdout",
     "output_type": "stream",
     "text": [
      "100%|██████████| 50/50 [58:15<00:00, 69.92s/it, best loss: 18.848213638327298] \n",
      "Train RMSE is 18.722198047015407\n",
      "Valid RMSE is 18.848213638327298\n",
      "RMSE of model Test data is is:  18.84082041561113\n",
      "________________\n",
      "{'colsample_bytree': 0.6493995962757044, 'learning_rate': 0.010704995006600644, 'min_child_samples': 405, 'num_leaves': 57, 'reg_alpha': 0.011916940209808716, 'reg_lambda': 0.02290033834427313, 'subsample': 0.5117220236533342, 'subsample_for_bin': 280000, 'n_estimators': 1416}\n"
     ]
    }
   ],
   "source": [
    "space = {\n",
    "            'learning_rate': hp.loguniform('learning_rate', np.log(0.01), np.log(0.05)),\n",
    "            'num_leaves': hp.choice('num_leaves', range(15, 127, 1)),\n",
    "            'subsample': hp.uniform('subsample', 0.5, 1.0),\n",
    "            'subsample_for_bin': hp.choice('subsample_for_bin', range(20000, 300000, 20000)),\n",
    "            'min_child_samples': hp.choice('min_child_samples', range(20, 500, 5)),\n",
    "            'reg_alpha': hp.uniform('reg_alpha', 0.0, 1.0),\n",
    "            'reg_lambda':  hp.uniform('reg_lambda', 0.0, 1.0),\n",
    "            'colsample_bytree': hp.uniform('colsample_bytree', 0.6, 1.0)\n",
    "        } \n",
    "\n",
    "    \n",
    "best, importance_table = tune_lgb(True, space, X_test_hot_encode, 'GBM_records_onehot.csv', 'GBM_onehot.txt')"
   ]
  },
  {
   "cell_type": "markdown",
   "metadata": {},
   "source": [
    "Plot the feature importance"
   ]
  },
  {
   "cell_type": "code",
   "execution_count": 12,
   "metadata": {},
   "outputs": [
    {
     "data": {
      "image/png": "[encoded data removed]",
      "text/plain": [
       "<Figure size 720x432 with 1 Axes>"
      ]
     },
     "metadata": {
      "needs_background": "light"
     },
     "output_type": "display_data"
    }
   ],
   "source": [
    "utils.plot_importance(importance_table, 20)"
   ]
  },
  {
   "cell_type": "markdown",
   "metadata": {},
   "source": [
    "## 2. Label encoding\n",
    "\n",
    "LightGBM has a very good feature that can handle categorical variables without one hot encoding. It uses the Optimal Split for Categorical Features that split on a categorical feature by partitioning its categories into 2 subsets. If the feature has k categories, there are $2^{(k-1)} - 1$ possible partitions. Thus, we used label encoding here and specified categorical variables in lightgbm data set. "
   ]
  },
  {
   "cell_type": "code",
   "execution_count": 13,
   "metadata": {},
   "outputs": [],
   "source": [
    "import lightgbm as lgb\n",
    "from sklearn.preprocessing import LabelEncoder\n",
    "le = LabelEncoder()\n",
    "for col in categorical_vars:\n",
    "    le.fit(X_test_1[col])\n",
    "    X_test_1[col] = le.transform(X_test_1[col])"
   ]
  },
  {
   "cell_type": "markdown",
   "metadata": {},
   "source": [
    "Start with default hyperparameter in LighGBM, used manual tuning to find a good hyperparameter space. Change one hyperparameter with more or less than default choice when other hyperparameters are fixed. The code below are examples, more runs are tested to get final feature space for Bayesian optimization."
   ]
  },
  {
   "cell_type": "code",
   "execution_count": 14,
   "metadata": {},
   "outputs": [
    {
     "name": "stdout",
     "output_type": "stream",
     "text": [
      "{'boosting_type': 'gbdt', 'class_weight': None, 'colsample_bytree': 1.0, 'importance_type': 'split', 'learning_rate': 0.1, 'max_depth': -1, 'min_child_samples': 20, 'min_child_weight': 0.001, 'min_split_gain': 0.0, 'n_estimators': 100, 'n_jobs': -1, 'num_leaves': 31, 'objective': None, 'random_state': None, 'reg_alpha': 0.0, 'reg_lambda': 0.0, 'silent': True, 'subsample': 1.0, 'subsample_for_bin': 200000, 'subsample_freq': 0}\n"
     ]
    },
    {
     "name": "stderr",
     "output_type": "stream",
     "text": [
      "/Library/Frameworks/Python.framework/Versions/3.7/lib/python3.7/site-packages/lightgbm/engine.py:151: UserWarning: Found `n_estimators` in params. Will use it instead of argument\n",
      "  warnings.warn(\"Found `{}` in params. Will use it instead of argument\".format(alias))\n",
      "/Library/Frameworks/Python.framework/Versions/3.7/lib/python3.7/site-packages/lightgbm/basic.py:1551: UserWarning: Using categorical_feature in Dataset.\n",
      "  warnings.warn('Using categorical_feature in Dataset.')\n",
      "/Library/Frameworks/Python.framework/Versions/3.7/lib/python3.7/site-packages/lightgbm/basic.py:1077: UserWarning: silent keyword has been found in `params` and will be ignored.\n",
      "Please use silent argument of the Dataset constructor to pass this parameter.\n",
      "  .format(key))\n"
     ]
    },
    {
     "name": "stdout",
     "output_type": "stream",
     "text": [
      "[LightGBM] [Warning] Unknown parameter: silent\n",
      "[LightGBM] [Warning] Unknown parameter: importance_type\n"
     ]
    },
    {
     "name": "stderr",
     "output_type": "stream",
     "text": [
      "/Library/Frameworks/Python.framework/Versions/3.7/lib/python3.7/site-packages/lightgbm/basic.py:1286: UserWarning: Overriding the parameters from Reference Dataset.\n",
      "  warnings.warn('Overriding the parameters from Reference Dataset.')\n",
      "/Library/Frameworks/Python.framework/Versions/3.7/lib/python3.7/site-packages/lightgbm/basic.py:1098: UserWarning: categorical_column in param dict is overridden.\n",
      "  warnings.warn('{} in param dict is overridden.'.format(cat_alias))\n"
     ]
    },
    {
     "name": "stdout",
     "output_type": "stream",
     "text": [
      "Train RMSE is 18.727764018269355\n",
      "Valid RMSE is 18.880264863099864\n",
      "RMSE of model Test data is is:  18.88048238788432\n",
      "________________\n",
      "{'boosting_type': 'gbdt', 'class_weight': None, 'colsample_bytree': 1.0, 'importance_type': 'split', 'learning_rate': 0.1, 'max_depth': -1, 'min_child_samples': 20, 'min_child_weight': 0.001, 'min_split_gain': 0.0, 'n_estimators': 209, 'num_leaves': 31, 'objective': None, 'reg_alpha': 0.0, 'reg_lambda': 0.0, 'silent': True, 'subsample': 1.0, 'subsample_for_bin': 200000, 'subsample_freq': 0}\n",
      "[LightGBM] [Warning] Unknown parameter: silent\n",
      "[LightGBM] [Warning] Unknown parameter: importance_type\n"
     ]
    },
    {
     "name": "stderr",
     "output_type": "stream",
     "text": [
      "/Library/Frameworks/Python.framework/Versions/3.7/lib/python3.7/site-packages/lightgbm/engine.py:151: UserWarning: Found `n_estimators` in params. Will use it instead of argument\n",
      "  warnings.warn(\"Found `{}` in params. Will use it instead of argument\".format(alias))\n",
      "/Library/Frameworks/Python.framework/Versions/3.7/lib/python3.7/site-packages/lightgbm/basic.py:1551: UserWarning: Using categorical_feature in Dataset.\n",
      "  warnings.warn('Using categorical_feature in Dataset.')\n",
      "/Library/Frameworks/Python.framework/Versions/3.7/lib/python3.7/site-packages/lightgbm/basic.py:1077: UserWarning: silent keyword has been found in `params` and will be ignored.\n",
      "Please use silent argument of the Dataset constructor to pass this parameter.\n",
      "  .format(key))\n"
     ]
    },
    {
     "name": "stdout",
     "output_type": "stream",
     "text": [
      "Train RMSE is 18.74324634488969\n",
      "Valid RMSE is 18.861898647527184\n",
      "RMSE of model Test data is is:  18.85908380872394\n",
      "________________\n",
      "{'boosting_type': 'gbdt', 'class_weight': None, 'colsample_bytree': 1.0, 'importance_type': 'split', 'learning_rate': 0.01, 'max_depth': -1, 'min_child_samples': 20, 'min_child_weight': 0.001, 'min_split_gain': 0.0, 'n_estimators': 2000, 'num_leaves': 31, 'objective': None, 'reg_alpha': 0.0, 'reg_lambda': 0.0, 'silent': True, 'subsample': 1.0, 'subsample_for_bin': 200000, 'subsample_freq': 0}\n",
      "[LightGBM] [Warning] Unknown parameter: silent\n",
      "[LightGBM] [Warning] Unknown parameter: importance_type\n"
     ]
    },
    {
     "name": "stderr",
     "output_type": "stream",
     "text": [
      "/Library/Frameworks/Python.framework/Versions/3.7/lib/python3.7/site-packages/lightgbm/engine.py:151: UserWarning: Found `n_estimators` in params. Will use it instead of argument\n",
      "  warnings.warn(\"Found `{}` in params. Will use it instead of argument\".format(alias))\n",
      "/Library/Frameworks/Python.framework/Versions/3.7/lib/python3.7/site-packages/lightgbm/basic.py:1551: UserWarning: Using categorical_feature in Dataset.\n",
      "  warnings.warn('Using categorical_feature in Dataset.')\n",
      "/Library/Frameworks/Python.framework/Versions/3.7/lib/python3.7/site-packages/lightgbm/basic.py:1077: UserWarning: silent keyword has been found in `params` and will be ignored.\n",
      "Please use silent argument of the Dataset constructor to pass this parameter.\n",
      "  .format(key))\n"
     ]
    },
    {
     "name": "stdout",
     "output_type": "stream",
     "text": [
      "Train RMSE is 18.73604972582947\n",
      "Valid RMSE is 18.865397442448877\n",
      "RMSE of model Test data is is:  18.865233484334397\n",
      "________________\n",
      "{'boosting_type': 'gbdt', 'class_weight': None, 'colsample_bytree': 1.0, 'importance_type': 'split', 'learning_rate': 0.05, 'max_depth': -1, 'min_child_samples': 20, 'min_child_weight': 0.001, 'min_split_gain': 0.0, 'n_estimators': 461, 'num_leaves': 31, 'objective': None, 'reg_alpha': 0.0, 'reg_lambda': 0.0, 'silent': True, 'subsample': 1.0, 'subsample_for_bin': 200000, 'subsample_freq': 0}\n"
     ]
    }
   ],
   "source": [
    "hyperparameters = LGB_default.get_params()\n",
    "print(hyperparameters)\n",
    "run_lgb(False, hyperparameters, X_test_1)\n",
    "run_lgb(False, hyperparameters, X_test_1, 'learning_rate', 0.01)\n",
    "run_lgb(False, hyperparameters, X_test_1, 'learning_rate', 0.05)"
   ]
  },
  {
   "cell_type": "markdown",
   "metadata": {},
   "source": [
    "Found the hyperparameters space below to tune. The maximum trees we build will not exceed 2000 trees and it will early stop if validation data performance has not changed for 50 runs"
   ]
  },
  {
   "cell_type": "code",
   "execution_count": 15,
   "metadata": {},
   "outputs": [
    {
     "name": "stdout",
     "output_type": "stream",
     "text": [
      "\r",
      "  0%|          | 0/50 [00:00<?, ?it/s, best loss: ?]"
     ]
    },
    {
     "name": "stderr",
     "output_type": "stream",
     "text": [
      "/Library/Frameworks/Python.framework/Versions/3.7/lib/python3.7/site-packages/lightgbm/engine.py:151: UserWarning: Found `n_estimators` in params. Will use it instead of argument\n",
      "  warnings.warn(\"Found `{}` in params. Will use it instead of argument\".format(alias))\n",
      "\n",
      "/Library/Frameworks/Python.framework/Versions/3.7/lib/python3.7/site-packages/lightgbm/basic.py:1551: UserWarning: Using categorical_feature in Dataset.\n",
      "  warnings.warn('Using categorical_feature in Dataset.')\n",
      "\n"
     ]
    },
    {
     "name": "stdout",
     "output_type": "stream",
     "text": [
      "100%|██████████| 50/50 [37:05<00:00, 44.52s/it, best loss: 18.84976411895737] \n",
      "Train RMSE is 18.726145713367533\n",
      "Valid RMSE is 18.84976411895737\n",
      "RMSE of model Test data is is:  18.843244159999223\n",
      "________________\n",
      "{'colsample_bytree': 0.6745171777617696, 'learning_rate': 0.017834840095378862, 'min_child_samples': 385, 'num_leaves': 37, 'reg_alpha': 0.2892601062868556, 'reg_lambda': 0.09999714603767595, 'subsample_for_bin': 60000, 'n_estimators': 1437}\n"
     ]
    }
   ],
   "source": [
    "space = {\n",
    "            'num_leaves': hp.choice('num_leaves', range(20, 150, 1)),\n",
    "            'learning_rate': hp.loguniform('learning_rate', np.log(0.01), np.log(0.05)),\n",
    "            'subsample_for_bin': hp.choice('subsample_for_bin', range(20000, 300000, 20000)),\n",
    "            'min_child_samples': hp.choice('min_child_samples', range(20, 500, 5)),\n",
    "            'reg_alpha': hp.uniform('reg_alpha', 0.0, 1.0),\n",
    "            'reg_lambda':  hp.uniform('reg_lambda', 0.0, 1.0),\n",
    "            'colsample_bytree': hp.uniform('colsample_bytree', 0.6, 1.0)\n",
    "        } \n",
    "best, importance_table = tune_lgb(False, space, X_test_1, 'GBM_records_label.csv', 'GBM_label.txt')"
   ]
  },
  {
   "cell_type": "markdown",
   "metadata": {},
   "source": [
    "Plot the feature importance"
   ]
  },
  {
   "cell_type": "code",
   "execution_count": 16,
   "metadata": {},
   "outputs": [
    {
     "data": {
      "image/png": "[encoded data removed]",
      "text/plain": [
       "<Figure size 720x432 with 1 Axes>"
      ]
     },
     "metadata": {
      "needs_background": "light"
     },
     "output_type": "display_data"
    }
   ],
   "source": [
    "utils.plot_importance(importance_table, 6)"
   ]
  },
  {
   "cell_type": "markdown",
   "metadata": {},
   "source": [
    "## Summary"
   ]
  },
  {
   "cell_type": "markdown",
   "metadata": {},
   "source": [
    "Both one hot encoding label encoding have very similar results that RMSE of test data is close to 18.84. Both of them have better performance than linear models. Label encoding version is selected because it has less variables and faster to train and implement."
   ]
  },
  {
   "cell_type": "code",
   "execution_count": null,
   "metadata": {},
   "outputs": [],
   "source": []
  }
 ],
 "metadata": {
  "kernelspec": {
   "display_name": "Python 3",
   "language": "python",
   "name": "python3"
  },
  "language_info": {
   "codemirror_mode": {
    "name": "ipython",
    "version": 3
   },
   "file_extension": ".py",
   "mimetype": "text/x-python",
   "name": "python",
   "nbconvert_exporter": "python",
   "pygments_lexer": "ipython3",
   "version": "3.7.1"
  }
 },
 "nbformat": 4,
 "nbformat_minor": 2
}
