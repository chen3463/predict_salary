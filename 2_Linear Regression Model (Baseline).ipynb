{
 "cells": [
  {
   "cell_type": "markdown",
   "metadata": {},
   "source": [
    "# Linear Models\n",
    "\n",
    "Linear model regression model is the first model we tried and will be baseline model"
   ]
  },
  {
   "cell_type": "code",
   "execution_count": 1,
   "metadata": {},
   "outputs": [],
   "source": [
    "import utils\n",
    "import gc\n",
    "import numpy as np\n",
    "import pandas as pd\n",
    "import matplotlib.pyplot as plt\n",
    "import seaborn as sns\n",
    "from sklearn.linear_model import LinearRegression"
   ]
  },
  {
   "cell_type": "markdown",
   "metadata": {},
   "source": [
    "## Read saved data sets\n",
    "\n",
    "Read saved pickle format data sets from `1_Data_Exploration.ipynb`"
   ]
  },
  {
   "cell_type": "code",
   "execution_count": 2,
   "metadata": {},
   "outputs": [],
   "source": [
    "X_train = pd.read_pickle(\"X_train.pkl\")\n",
    "X_val = pd.read_pickle(\"X_val.pkl\")\n",
    "X_test = pd.read_pickle(\"X_test.pkl\")\n",
    "y_train = pd.read_pickle(\"y_train.pkl\")\n",
    "y_val = pd.read_pickle(\"y_val.pkl\")\n",
    "y_test = pd.read_pickle(\"y_test.pkl\")"
   ]
  },
  {
   "cell_type": "markdown",
   "metadata": {},
   "source": [
    "## Implement linear regression \n",
    "\n",
    "* linear model with using `major` and without `major_new`"
   ]
  },
  {
   "cell_type": "code",
   "execution_count": 3,
   "metadata": {},
   "outputs": [],
   "source": [
    "vars_drop = ['major_new']\n",
    "X_train_1, X_val_1, X_test_1 = utils.drop_vars(vars_drop, X_train, X_val, X_test) "
   ]
  },
  {
   "cell_type": "code",
   "execution_count": 4,
   "metadata": {},
   "outputs": [
    {
     "data": {
      "text/html": [
       "<div>\n",
       "<style scoped>\n",
       "    .dataframe tbody tr th:only-of-type {\n",
       "        vertical-align: middle;\n",
       "    }\n",
       "\n",
       "    .dataframe tbody tr th {\n",
       "        vertical-align: top;\n",
       "    }\n",
       "\n",
       "    .dataframe thead th {\n",
       "        text-align: right;\n",
       "    }\n",
       "</style>\n",
       "<table border=\"1\" class=\"dataframe\">\n",
       "  <thead>\n",
       "    <tr style=\"text-align: right;\">\n",
       "      <th></th>\n",
       "      <th>jobType</th>\n",
       "      <th>degree</th>\n",
       "      <th>major</th>\n",
       "      <th>industry</th>\n",
       "      <th>yearsExperience</th>\n",
       "      <th>milesFromMetropolis</th>\n",
       "    </tr>\n",
       "  </thead>\n",
       "  <tbody>\n",
       "    <tr>\n",
       "      <th>68609</th>\n",
       "      <td>VICE_PRESIDENT</td>\n",
       "      <td>MASTERS</td>\n",
       "      <td>MATH</td>\n",
       "      <td>EDUCATION</td>\n",
       "      <td>5</td>\n",
       "      <td>82</td>\n",
       "    </tr>\n",
       "    <tr>\n",
       "      <th>924598</th>\n",
       "      <td>CTO</td>\n",
       "      <td>DOCTORAL</td>\n",
       "      <td>MATH</td>\n",
       "      <td>AUTO</td>\n",
       "      <td>22</td>\n",
       "      <td>66</td>\n",
       "    </tr>\n",
       "    <tr>\n",
       "      <th>918523</th>\n",
       "      <td>CEO</td>\n",
       "      <td>HIGH_SCHOOL</td>\n",
       "      <td>NONE</td>\n",
       "      <td>EDUCATION</td>\n",
       "      <td>24</td>\n",
       "      <td>67</td>\n",
       "    </tr>\n",
       "    <tr>\n",
       "      <th>213733</th>\n",
       "      <td>CFO</td>\n",
       "      <td>HIGH_SCHOOL</td>\n",
       "      <td>NONE</td>\n",
       "      <td>FINANCE</td>\n",
       "      <td>22</td>\n",
       "      <td>90</td>\n",
       "    </tr>\n",
       "    <tr>\n",
       "      <th>246703</th>\n",
       "      <td>VICE_PRESIDENT</td>\n",
       "      <td>MASTERS</td>\n",
       "      <td>BUSINESS</td>\n",
       "      <td>SERVICE</td>\n",
       "      <td>18</td>\n",
       "      <td>68</td>\n",
       "    </tr>\n",
       "  </tbody>\n",
       "</table>\n",
       "</div>"
      ],
      "text/plain": [
       "               jobType       degree     major   industry  yearsExperience  \\\n",
       "68609   VICE_PRESIDENT      MASTERS      MATH  EDUCATION                5   \n",
       "924598             CTO     DOCTORAL      MATH       AUTO               22   \n",
       "918523             CEO  HIGH_SCHOOL      NONE  EDUCATION               24   \n",
       "213733             CFO  HIGH_SCHOOL      NONE    FINANCE               22   \n",
       "246703  VICE_PRESIDENT      MASTERS  BUSINESS    SERVICE               18   \n",
       "\n",
       "        milesFromMetropolis  \n",
       "68609                    82  \n",
       "924598                   66  \n",
       "918523                   67  \n",
       "213733                   90  \n",
       "246703                   68  "
      ]
     },
     "execution_count": 4,
     "metadata": {},
     "output_type": "execute_result"
    }
   ],
   "source": [
    "X_train_1.head()"
   ]
  },
  {
   "cell_type": "code",
   "execution_count": 5,
   "metadata": {},
   "outputs": [],
   "source": [
    "var_cate = utils.get_categorical_variables(X_train_1)\n",
    "X_train_hot_encode, X_valid_hot_encode = utils.encoding('one hot', var_cate, X_train_1, X_val_1)\n",
    "_, X_test_hot_encode = utils.encoding('one hot', var_cate, X_train_1, X_test_1)"
   ]
  },
  {
   "cell_type": "markdown",
   "metadata": {},
   "source": [
    "Check the multicollinearity before implemeting linear regression, numerical variables `yearsExperience` and `milesFromMetropolis` do not have multicollinearity due to their VIF less than 2. Categorical varibles are impossible to tell here."
   ]
  },
  {
   "cell_type": "code",
   "execution_count": 6,
   "metadata": {},
   "outputs": [
    {
     "name": "stderr",
     "output_type": "stream",
     "text": [
      "/Library/Frameworks/Python.framework/Versions/3.7/lib/python3.7/site-packages/statsmodels/stats/outliers_influence.py:193: RuntimeWarning: divide by zero encountered in double_scalars\n",
      "  vif = 1. / (1. - r_squared_i)\n"
     ]
    },
    {
     "name": "stdout",
     "output_type": "stream",
     "text": [
      "                   feature       VIF\n",
      "0          yearsExperience  1.000034\n",
      "1      milesFromMetropolis  1.000024\n",
      "2              jobType_CEO       inf\n",
      "3              jobType_CFO       inf\n",
      "4              jobType_CTO       inf\n",
      "5          jobType_JANITOR       inf\n",
      "6           jobType_JUNIOR       inf\n",
      "7          jobType_MANAGER       inf\n",
      "8           jobType_SENIOR       inf\n",
      "9   jobType_VICE_PRESIDENT       inf\n",
      "10        degree_BACHELORS       inf\n",
      "11         degree_DOCTORAL       inf\n",
      "12      degree_HIGH_SCHOOL       inf\n",
      "13          degree_MASTERS       inf\n",
      "14             degree_NONE       inf\n",
      "15           major_BIOLOGY       inf\n",
      "16          major_BUSINESS       inf\n",
      "17         major_CHEMISTRY       inf\n",
      "18           major_COMPSCI       inf\n",
      "19       major_ENGINEERING       inf\n",
      "20        major_LITERATURE       inf\n",
      "21              major_MATH       inf\n",
      "22              major_NONE       inf\n",
      "23           major_PHYSICS       inf\n",
      "24           industry_AUTO       inf\n",
      "25      industry_EDUCATION       inf\n",
      "26        industry_FINANCE       inf\n",
      "27         industry_HEALTH       inf\n",
      "28            industry_OIL       inf\n",
      "29        industry_SERVICE       inf\n",
      "30            industry_WEB       inf\n"
     ]
    }
   ],
   "source": [
    "utils.VIF(X_train_hot_encode)"
   ]
  },
  {
   "cell_type": "code",
   "execution_count": 7,
   "metadata": {},
   "outputs": [
    {
     "name": "stdout",
     "output_type": "stream",
     "text": [
      "RMSE of model linear model train is:  19.567400073310356\n",
      "RMSE of model linear model valid is:  19.60858171041308\n",
      "RMSE of model linear model test is:  19.5983063417872\n"
     ]
    }
   ],
   "source": [
    "linear_reg = LinearRegression(normalize = True).fit(X_train_hot_encode, y_train)\n",
    "linear_pred_train = linear_reg.predict(X_train_hot_encode)\n",
    "linear_pred_val = linear_reg.predict(X_valid_hot_encode)\n",
    "linear_pred_test = linear_reg.predict(X_test_hot_encode)\n",
    "\n",
    "utils.check_RMSE(\"linear model train\", y_train, linear_pred_train)\n",
    "utils.check_RMSE(\"linear model valid\", y_val, linear_pred_val)\n",
    "utils.check_RMSE(\"linear model test\", y_test, linear_pred_test)"
   ]
  },
  {
   "cell_type": "markdown",
   "metadata": {},
   "source": [
    "* linear model without using `major`"
   ]
  },
  {
   "cell_type": "code",
   "execution_count": 8,
   "metadata": {},
   "outputs": [],
   "source": [
    "vars_drop = ['major']\n",
    "X_train_2, X_val_2, X_test_2 = utils.drop_vars(vars_drop, X_train, X_val, X_test) \n",
    "var_cate = utils.get_categorical_variables(X_train_2)\n",
    "X_train_hot_encode, X_valid_hot_encode = utils.encoding('one hot', var_cate, X_train_2, X_val_2)\n",
    "_, X_test_hot_encode = utils.encoding('one hot', var_cate, X_train_2, X_test_2)"
   ]
  },
  {
   "cell_type": "markdown",
   "metadata": {},
   "source": [
    "Check the multicollinearity before implemeting linear regression, numerical variables `yearsExperience` and `milesFromMetropolis` do not have multicollinearity due to their VIF less than 2. Categorical varibles are impossible to tell here."
   ]
  },
  {
   "cell_type": "code",
   "execution_count": 9,
   "metadata": {},
   "outputs": [
    {
     "name": "stderr",
     "output_type": "stream",
     "text": [
      "/Library/Frameworks/Python.framework/Versions/3.7/lib/python3.7/site-packages/statsmodels/stats/outliers_influence.py:193: RuntimeWarning: divide by zero encountered in double_scalars\n",
      "  vif = 1. / (1. - r_squared_i)\n"
     ]
    },
    {
     "name": "stdout",
     "output_type": "stream",
     "text": [
      "                   feature       VIF\n",
      "0          yearsExperience  1.000026\n",
      "1      milesFromMetropolis  1.000021\n",
      "2              jobType_CEO       inf\n",
      "3              jobType_CFO       inf\n",
      "4              jobType_CTO       inf\n",
      "5          jobType_JANITOR       inf\n",
      "6           jobType_JUNIOR       inf\n",
      "7          jobType_MANAGER       inf\n",
      "8           jobType_SENIOR       inf\n",
      "9   jobType_VICE_PRESIDENT       inf\n",
      "10        degree_BACHELORS       inf\n",
      "11         degree_DOCTORAL       inf\n",
      "12      degree_HIGH_SCHOOL       inf\n",
      "13          degree_MASTERS       inf\n",
      "14             degree_NONE       inf\n",
      "15           industry_AUTO       inf\n",
      "16      industry_EDUCATION       inf\n",
      "17        industry_FINANCE       inf\n",
      "18         industry_HEALTH       inf\n",
      "19            industry_OIL       inf\n",
      "20        industry_SERVICE       inf\n",
      "21            industry_WEB       inf\n",
      "22          major_new_NONE       inf\n",
      "23      major_new_Not None       inf\n"
     ]
    }
   ],
   "source": [
    "utils.VIF(X_train_hot_encode)"
   ]
  },
  {
   "cell_type": "code",
   "execution_count": 10,
   "metadata": {},
   "outputs": [
    {
     "name": "stdout",
     "output_type": "stream",
     "text": [
      "RMSE of model linear model is:  19.807425626527287\n",
      "RMSE of model linear model is:  19.803692476116765\n"
     ]
    }
   ],
   "source": [
    "linear_reg = LinearRegression(normalize = True).fit(X_train_hot_encode, y_train)\n",
    "linear_pred_val = linear_reg.predict(X_valid_hot_encode)\n",
    "linear_pred_test = linear_reg.predict(X_test_hot_encode)\n",
    "model = \"linear model\"\n",
    "utils.check_RMSE(model, y_val, linear_pred_val)\n",
    "utils.check_RMSE(model, y_test, linear_pred_test)"
   ]
  },
  {
   "cell_type": "markdown",
   "metadata": {},
   "source": [
    "## Summary\n",
    "\n",
    "* The Linear regression model using `major` but `major_new` has RMSE 19.5983, which is the baseline performance.\n",
    "* Do not use `major_new` because it will lose variable information and reduce model performance"
   ]
  },
  {
   "cell_type": "code",
   "execution_count": null,
   "metadata": {},
   "outputs": [],
   "source": []
  }
 ],
 "metadata": {
  "kernelspec": {
   "display_name": "Python 3",
   "language": "python",
   "name": "python3"
  },
  "language_info": {
   "codemirror_mode": {
    "name": "ipython",
    "version": 3
   },
   "file_extension": ".py",
   "mimetype": "text/x-python",
   "name": "python",
   "nbconvert_exporter": "python",
   "pygments_lexer": "ipython3",
   "version": "3.7.1"
  }
 },
 "nbformat": 4,
 "nbformat_minor": 2
}
